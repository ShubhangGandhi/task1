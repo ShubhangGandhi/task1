# %% [markdown]
# # AI & ML Internship - Task 1: Data Cleaning & Preprocessing
# ## Titanic Dataset Cleaning Pipeline

# %% [markdown]
# ## 1. Import Required Libraries

# %%
import pandas as pd
import numpy as np
import matplotlib.pyplot as plt
import seaborn as sns
from sklearn.preprocessing import StandardScaler, MinMaxScaler, LabelEncoder, OneHotEncoder
from sklearn.impute import SimpleImputer

# Set style for plots
sns.set_style('whitegrid')
plt.rcParams['figure.figsize'] = (10, 6)

# %% [markdown]
# ## 2. Load and Explore Dataset

# %%
# Load the dataset
url = "https://web.stanford.edu/class/archive/cs/cs109/cs109.1166/stuff/titanic.csv"
df = pd.read_csv(url)

# Display first 5 rows
print("First 5 rows:")
display(df.head())

# %%
# Dataset information
print("\nDataset info:")
display(df.info())

# %%
# Check for missing values
print("\nMissing values count:")
missing_values = df.isnull().sum()
display(missing_values[missing_values > 0])

# %%
# Basic statistics
print("\nNumerical features statistics:")
display(df.describe())

# %%
# Categorical features statistics
print("\nCategorical features statistics:")
display(df.describe(include=['O']))

# %% [markdown]
# ## 3. Handle Missing Values

# %%
# Visualize missing values
plt.figure(figsize=(10, 4))
sns.heatmap(df.isnull(), cbar=False, cmap='viridis', yticklabels=False)
plt.title('Missing Values Heatmap')
plt.show()

# %%
# Handle Age (numerical) - fill with median
age_median = df['Age'].median()
df['Age'].fillna(age_median, inplace=True)
print(f"Filled {missing_values['Age']} missing Age values with median: {age_median}")

# %%
# Handle Cabin (too many missing values - drop column)
df.drop('Cabin', axis=1, inplace=True)
print("Dropped Cabin column due to excessive missing values")

# %%
# Handle Embarked (categorical) - fill with mode
embarked_mode = df['Embarked'].mode()[0]
df['Embarked'].fillna(embarked_mode, inplace=True)
print(f"Filled {missing_values['Embarked']} missing Embarked values with mode: {embarked_mode}")

# %% [markdown]
# ## 4. Handle Categorical Variables

# %%
# Label Encoding for Sex (binary category)
df['Sex'] = LabelEncoder().fit_transform(df['Sex'])
print("Encoded Sex column: 0 = female, 1 = male")

# %%
# One-Hot Encoding for Embarked (multiple categories)
embarked_encoded = pd.get_dummies(df['Embarked'], prefix='Embarked')
df = pd.concat([df, embarked_encoded], axis=1)
df.drop('Embarked', axis=1, inplace=True)
print("One-hot encoded Embarked column")

# %%
# Drop columns that won't be useful
df.drop(['Name', 'Ticket'], axis=1, inplace=True)
print("Dropped Name and Ticket columns")

# %%
# Display cleaned dataset
print("\nCleaned dataset:")
display(df.head())

# %% [markdown]
# ## 5. Feature Scaling

# %%
# Before scaling
print("Before scaling:")
display(df[['Age', 'Fare']].describe())

# %%
# Initialize scalers
scaler = StandardScaler()
minmax = MinMaxScaler()

# Select numerical columns to scale
num_cols = ['Age', 'Fare']

# Standard Scaling (Z-score normalization)
df[num_cols] = scaler.fit_transform(df[num_cols])
print("\nAfter Standard Scaling:")
display(df[num_cols].describe())

# %%
# Alternative: Min-Max Scaling (Normalization)
# df[num_cols] = minmax.fit_transform(df[num_cols])
# print("\nAfter Min-Max Scaling:")
# display(df[num_cols].describe())

# %% [markdown]
# ## 6. Outlier Detection and Treatment

# %%
# Boxplot for numerical features
plt.figure(figsize=(12, 6))
plt.subplot(1, 2, 1)
sns.boxplot(y=df['Age'])
plt.title('Age Boxplot')

plt.subplot(1, 2, 2)
sns.boxplot(y=df['Fare'])
plt.title('Fare Boxplot')
plt.tight_layout()
plt.show()

# %%
# Function to remove outliers using IQR
def remove_outliers(df, col):
    Q1 = df[col].quantile(0.25)
    Q3 = df[col].quantile(0.75)
    IQR = Q3 - Q1
    lower_bound = Q1 - 1.5 * IQR
    upper_bound = Q3 + 1.5 * IQR
    return df[(df[col] >= lower_bound) & (df[col] <= upper_bound)]

# %%
# Remove outliers from Fare
original_count = len(df)
df = remove_outliers(df, 'Fare')
removed_count = original_count - len(df)
print(f"Removed {removed_count} outliers from Fare ({removed_count/original_count:.2%} of data)")

# %%
# Boxplot after outlier removal
plt.figure(figsize=(6, 6))
sns.boxplot(y=df['Fare'])
plt.title('Fare Boxplot After Outlier Removal')
plt.show()

# %% [markdown]
# ## 7. Final Dataset

# %%
# Display final dataset info
print("\nFinal dataset shape:", df.shape)
print("\nFinal data types:")
display(df.dtypes)

# %%
# Display first 5 rows of cleaned data
print("\nFinal cleaned dataset:")
display(df.head())

# %%
# Save cleaned dataset
df.to_csv('data/titanic_cleaned.csv', index=False)
print("Saved cleaned dataset to 'data/titanic_cleaned.csv'")
